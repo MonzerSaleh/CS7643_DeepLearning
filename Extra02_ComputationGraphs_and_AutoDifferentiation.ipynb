{
 "cells": [
  {
   "cell_type": "markdown",
   "metadata": {},
   "source": [
    "# Autodifferentions using computation graphs"
   ]
  },
  {
   "cell_type": "markdown",
   "metadata": {},
   "source": [
    "## Example 1\n",
    "\n",
    "Reference:  \n",
    "1. https://www.youtube.com/watch?v=hCP1vGoCdYU\n",
    "\n",
    "Function: $J(a,b,c) = 3*(a + (b*c))$    \n",
    "\n",
    "First: break it down into it's simplest parts:   \n",
    "1. Let $u=b*c$\n",
    "2. Let $v=a+u$\n",
    "3. Let $j=3*v$\n",
    "\n",
    "Second we draw it as a graph: \n",
    "<img src=\"images/APDX_a1_01.png\" />\n",
    "\n",
    "Third we begin computing the derivatives\n",
    "0. The derivative of J is $\\frac{dJ}{dv} = 3$\n",
    "\n",
    "For the remaining steps we need to apply the chain rule\n",
    "\n",
    "1. Partials of J (1 step backprop)  \n",
    "    - wrt a is $\\frac{\\partial J}{\\partial a} = \\frac{\\partial J}{\\partial v} \\cdot \\frac{\\partial v}{\\partial a} = 3*1 = 3$\n",
    "    - wrt u is $\\frac{\\partial J}{\\partial u} = \\frac{\\partial J}{\\partial v} \\cdot \\frac{\\partial v}{\\partial u} = 3*1 = 3$\n",
    "    \n",
    "2. Partials of J (2 step backprop)\n",
    "    - wrt a is $\\frac{\\partial J}{\\partial a} = \n",
    "                \\frac{\\partial J}{\\partial v} \n",
    "                \\cdot \\frac{\\partial v}{\\partial a} \n",
    "                =3*1*1=3$\n",
    "    - wrt b is $\\frac{\\partial J}{\\partial b} = \n",
    "                \\frac{\\partial J}{\\partial v} \n",
    "                \\cdot \\frac{\\partial v}{\\partial u} \n",
    "                \\cdot \\frac{\\partial u}{\\partial b}\n",
    "                =3*1*c$\n",
    "    - wrt c  is $\\frac{\\partial J}{\\partial c} = \n",
    "                \\frac{\\partial J}{\\partial v} \n",
    "                \\cdot \\frac{\\partial v}{\\partial u} \n",
    "                \\cdot \\frac{\\partial u}{\\partial c}\n",
    "                =3*1*b$\n",
    "\n",
    "Let's consider some values now \n",
    "\n",
    "Suppose we take b=4? According to the above derivative calculation we should see an increase in J of 3x1x2=6\n",
    "- u=2\\*4=8; v=5+8=13; J=3\\*13 = 39; delta = 6 as expected\n",
    "\n",
    "Suppose we take a=4? Then we should see a decrease in J of 3\n",
    "- u=2\\*3=6; v=4+6=10; J=3\\*v=30; delta = 3 as expected\n",
    "\n"
   ]
  },
  {
   "cell_type": "code",
   "execution_count": null,
   "metadata": {},
   "outputs": [],
   "source": []
  },
  {
   "cell_type": "code",
   "execution_count": null,
   "metadata": {},
   "outputs": [],
   "source": []
  },
  {
   "cell_type": "markdown",
   "metadata": {},
   "source": [
    "$\\frac{\\partial }{\\partial }$\n",
    "\n",
    "<img src=\"images/APDX_a1_01.png\" />"
   ]
  }
 ],
 "metadata": {
  "hide_input": false,
  "kernelspec": {
   "display_name": "Python [conda env:CS7643]",
   "language": "python",
   "name": "conda-env-CS7643-py"
  },
  "language_info": {
   "codemirror_mode": {
    "name": "ipython",
    "version": 3
   },
   "file_extension": ".py",
   "mimetype": "text/x-python",
   "name": "python",
   "nbconvert_exporter": "python",
   "pygments_lexer": "ipython3",
   "version": "3.9.10"
  },
  "toc": {
   "base_numbering": 1,
   "nav_menu": {},
   "number_sections": false,
   "sideBar": true,
   "skip_h1_title": true,
   "title_cell": "Table of Contents",
   "title_sidebar": "Contents",
   "toc_cell": false,
   "toc_position": {},
   "toc_section_display": true,
   "toc_window_display": false
  }
 },
 "nbformat": 4,
 "nbformat_minor": 2
}
