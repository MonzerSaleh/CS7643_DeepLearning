{
 "cells": [
  {
   "cell_type": "markdown",
   "metadata": {},
   "source": [
    "# Math Review"
   ]
  },
  {
   "cell_type": "markdown",
   "metadata": {},
   "source": [
    "## Matrix Calculus\n",
    "\n",
    "Why do we care?\n",
    "- Derivatives are a response to infinitesimal changes in input\n",
    "- Backpropagation is the workhorse of Deep Learning\n",
    "\n",
    "$f: X \\to Y$  \n",
    "- Function f maps X to Y\n",
    "- Both X,Y can be Scalar, Vectors, Matrices or Tensors\n",
    "- Vectors in this tense are column vector\n",
    "\n",
    "Example 1: Scalar Valued Function of a Single Variable   \n",
    "- $f: \\mathbb{R} \\to \\mathbb{R}$  \n",
    "- $y=f(x)=x^2 \\ln x^2 = 2x(1+ \\ln(x^2))$\n",
    "\n",
    "Example 2: Vector Valued Function of a Single Variable    \n",
    "- $f:\\mathbb{R} \\to \\mathbb{R}^3$\n",
    "- $y = f(x) = \\begin{bmatrix}  3x^2 + x \\\\  e^x \\\\  \\ln(x) \\end{bmatrix} = \\begin{bmatrix}  f_1 \\\\ f_2 \\\\ f_3 \\end{bmatrix}$\n",
    "\n",
    "Suppose we want to compute the Partial derivatives?   \n",
    "$\\frac{\\partial y}{\\partial x} \n",
    "= \\begin{bmatrix} \\frac{\\partial f_1}{\\partial x} \\\\  \n",
    "\\frac{\\partial f_2}{\\partial x} \\\\\n",
    "\\frac{\\partial f_3}{\\partial x}\n",
    "\\end{bmatrix}\n",
    "= \\begin{bmatrix}  6x + 1 \\\\  e^x \\\\  1/x  \\end{bmatrix}$\n",
    "\n",
    "\n",
    "Example 3: Vector Valued function of Multiple Variables  \n",
    "$y=f(x)=\\begin{bmatrix} f_1 \\\\ f_2 \\end{bmatrix} = \\begin{bmatrix} x_1+x_1 x_2 + x_1 x_3 \\\\ x_1^2 + 2x_3  \\end{bmatrix}$\n",
    "\n",
    "then  \n",
    "$\\frac{\\partial f}{\\partial x} = \n",
    "\\begin{bmatrix}\n",
    "\\frac{\\partial f_1}{\\partial x_1} \\frac{\\partial f_2}{\\partial x_1}  \\\\\n",
    "\\frac{\\partial f_1}{\\partial x_2} \\frac{\\partial f_2}{\\partial x_2}  \\\\\n",
    "\\frac{\\partial f_1}{\\partial x_3} \\frac{\\partial f_2}{\\partial x_3}  \\\\\n",
    "\\end{bmatrix} \n",
    "= \\mathbb{R}^{3x2}\n",
    "$\n",
    "\n",
    "This is using Denominator layout notation. If you transpose it you get the numerator layout  \n",
    "\n",
    "Example 4: Scalar Valued function of many variables  \n",
    "$y=f(x)=\\sum_i \\sum_j x_{ij}$  \n",
    "\n",
    "$x=\\begin{bmatrix} x_1 & x_2 & x_3 & x_4 \\\\ x_5 & x_6 & x_7 & x_8 \\\\ x_9 & x_{10} & x_{11} & x_{12}  \\end{bmatrix}$\n",
    "\n",
    "$\\frac{\\partial y}{\\partial x}\n",
    "= \\begin{bmatrix} \n",
    "\\frac{\\partial y}{\\partial x_1} & \\frac{\\partial y}{\\partial x_2} & x_3 & x_4 \\\\ \n",
    "\\frac{\\partial y}{\\partial x_5} & \\frac{\\partial y}{\\partial x_6} & x_7 & x_8 \\\\ \n",
    "\\frac{\\partial y}{\\partial x_9} & \\frac{\\partial y}{\\partial x_{10}} & x_{11} & x_{12}  \n",
    "\\end{bmatrix}\n",
    "$\n"
   ]
  },
  {
   "cell_type": "code",
   "execution_count": null,
   "metadata": {},
   "outputs": [],
   "source": []
  },
  {
   "cell_type": "code",
   "execution_count": null,
   "metadata": {},
   "outputs": [],
   "source": []
  },
  {
   "cell_type": "code",
   "execution_count": null,
   "metadata": {},
   "outputs": [],
   "source": []
  }
 ],
 "metadata": {
  "hide_input": false,
  "kernelspec": {
   "display_name": "Python [conda env:CS7643]",
   "language": "python",
   "name": "conda-env-CS7643-py"
  },
  "language_info": {
   "codemirror_mode": {
    "name": "ipython",
    "version": 3
   },
   "file_extension": ".py",
   "mimetype": "text/x-python",
   "name": "python",
   "nbconvert_exporter": "python",
   "pygments_lexer": "ipython3",
   "version": "3.9.10"
  },
  "toc": {
   "base_numbering": 1,
   "nav_menu": {},
   "number_sections": false,
   "sideBar": true,
   "skip_h1_title": true,
   "title_cell": "Table of Contents",
   "title_sidebar": "Math Refresher",
   "toc_cell": false,
   "toc_position": {},
   "toc_section_display": true,
   "toc_window_display": true
  }
 },
 "nbformat": 4,
 "nbformat_minor": 2
}
